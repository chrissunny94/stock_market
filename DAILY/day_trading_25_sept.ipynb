{
 "cells": [
  {
   "cell_type": "markdown",
   "metadata": {},
   "source": [
    "Agenda for today .\n",
    "- Get day data \n",
    "https://stackoverflow.com/questions/72338333/yahoo-finance-download-specific-time-frames-of-hisotrical-data"
   ]
  },
  {
   "cell_type": "code",
   "execution_count": 1,
   "metadata": {},
   "outputs": [
    {
     "name": "stdout",
     "output_type": "stream",
     "text": [
      "Defaulting to user installation because normal site-packages is not writeable\n",
      "Requirement already satisfied: yfinance in /home/chris/.local/lib/python3.10/site-packages (0.2.28)\n",
      "Requirement already satisfied: pandas>=1.3.0 in /usr/local/lib/python3.10/dist-packages (from yfinance) (2.1.0)\n",
      "Requirement already satisfied: numpy>=1.16.5 in /home/chris/.local/lib/python3.10/site-packages (from yfinance) (1.24.3)\n",
      "Requirement already satisfied: requests>=2.31 in /home/chris/.local/lib/python3.10/site-packages (from yfinance) (2.31.0)\n",
      "Requirement already satisfied: multitasking>=0.0.7 in /home/chris/.local/lib/python3.10/site-packages (from yfinance) (0.0.11)\n",
      "Requirement already satisfied: lxml>=4.9.1 in /home/chris/.local/lib/python3.10/site-packages (from yfinance) (4.9.3)\n",
      "Requirement already satisfied: appdirs>=1.4.4 in /usr/lib/python3/dist-packages (from yfinance) (1.4.4)\n",
      "Requirement already satisfied: pytz>=2022.5 in /home/chris/.local/lib/python3.10/site-packages (from yfinance) (2023.3.post1)\n",
      "Requirement already satisfied: frozendict>=2.3.4 in /home/chris/.local/lib/python3.10/site-packages (from yfinance) (2.3.8)\n",
      "Requirement already satisfied: beautifulsoup4>=4.11.1 in /home/chris/.local/lib/python3.10/site-packages (from yfinance) (4.12.2)\n",
      "Requirement already satisfied: html5lib>=1.1 in /usr/lib/python3/dist-packages (from yfinance) (1.1)\n",
      "Requirement already satisfied: soupsieve>1.2 in /home/chris/.local/lib/python3.10/site-packages (from beautifulsoup4>=4.11.1->yfinance) (2.4.1)\n",
      "Requirement already satisfied: python-dateutil>=2.8.2 in /usr/local/lib/python3.10/dist-packages (from pandas>=1.3.0->yfinance) (2.8.2)\n",
      "Requirement already satisfied: tzdata>=2022.1 in /usr/local/lib/python3.10/dist-packages (from pandas>=1.3.0->yfinance) (2023.3)\n",
      "Requirement already satisfied: charset-normalizer<4,>=2 in /home/chris/.local/lib/python3.10/site-packages (from requests>=2.31->yfinance) (3.2.0)\n",
      "Requirement already satisfied: idna<4,>=2.5 in /usr/lib/python3/dist-packages (from requests>=2.31->yfinance) (3.3)\n",
      "Requirement already satisfied: urllib3<3,>=1.21.1 in /usr/lib/python3/dist-packages (from requests>=2.31->yfinance) (1.26.5)\n",
      "Requirement already satisfied: certifi>=2017.4.17 in /usr/lib/python3/dist-packages (from requests>=2.31->yfinance) (2020.6.20)\n",
      "Requirement already satisfied: six>=1.5 in /usr/lib/python3/dist-packages (from python-dateutil>=2.8.2->pandas>=1.3.0->yfinance) (1.16.0)\n"
     ]
    }
   ],
   "source": [
    "!pip install yfinance\n"
   ]
  },
  {
   "cell_type": "code",
   "execution_count": 16,
   "metadata": {},
   "outputs": [
    {
     "name": "stdout",
     "output_type": "stream",
     "text": [
      "[*********************100%%**********************]  1 of 1 completed\n",
      "                             Open    High     Low   Close  Adj Close  Volume\n",
      "Datetime                                                                    \n",
      "2023-09-25 09:30:00-04:00  2.0200  2.0200  2.0200  2.0200     2.0200    7079\n",
      "2023-09-25 09:31:00-04:00  2.0100  2.0100  1.9600  1.9700     1.9700   26509\n",
      "2023-09-25 09:33:00-04:00  2.0000  2.0000  2.0000  2.0000     2.0000     193\n",
      "2023-09-25 09:34:00-04:00  1.9900  1.9900  1.9900  1.9900     1.9900     100\n",
      "2023-09-25 09:35:00-04:00  1.9900  1.9900  1.9900  1.9900     1.9900     248\n",
      "2023-09-25 09:36:00-04:00  1.9900  1.9950  1.9900  1.9950     1.9950     445\n",
      "2023-09-25 09:37:00-04:00  1.9997  1.9997  1.9900  1.9900     1.9900    1442\n",
      "2023-09-25 09:39:00-04:00  1.9900  1.9950  1.9900  1.9950     1.9950     223\n",
      "2023-09-25 09:40:00-04:00  1.9950  1.9950  1.9950  1.9950     1.9950     301\n",
      "2023-09-25 09:41:00-04:00  1.9991  1.9991  1.9991  1.9991     1.9991     300\n",
      "2023-09-25 09:42:00-04:00  1.9950  1.9950  1.9950  1.9950     1.9950     201\n",
      "2023-09-25 09:45:00-04:00  1.9950  1.9950  1.9950  1.9950     1.9950     200\n",
      "2023-09-25 09:46:00-04:00  1.9901  1.9950  1.9901  1.9950     1.9950    2418\n",
      "2023-09-25 09:47:00-04:00  1.9950  1.9950  1.9950  1.9950     1.9950     100\n",
      "2023-09-25 09:48:00-04:00  1.9937  1.9950  1.9937  1.9950     1.9950     285\n",
      "2023-09-25 09:49:00-04:00  1.9999  1.9999  1.9950  1.9950     1.9950   11236\n",
      "2023-09-25 09:50:00-04:00  2.0000  2.0000  2.0000  2.0000     2.0000     100\n",
      "2023-09-25 09:51:00-04:00  1.9950  1.9950  1.9950  1.9950     1.9950     100\n",
      "2023-09-25 09:52:00-04:00  1.9920  1.9950  1.9920  1.9950     1.9950    3400\n",
      "2023-09-25 09:53:00-04:00  1.9950  1.9950  1.9950  1.9950     1.9950     100\n",
      "2023-09-25 09:55:00-04:00  1.9950  1.9950  1.9950  1.9950     1.9950     171\n",
      "2023-09-25 09:58:00-04:00  1.9950  1.9950  1.9950  1.9950     1.9950     100\n",
      "2023-09-25 09:59:00-04:00  1.9950  1.9950  1.9950  1.9950     1.9950     100\n",
      "2023-09-25 10:00:00-04:00  1.9950  1.9950  1.9950  1.9950     1.9950     143\n",
      "2023-09-25 10:02:00-04:00  1.9900  1.9900  1.9900  1.9900     1.9900    1446\n",
      "2023-09-25 10:06:00-04:00  1.9850  1.9850  1.9850  1.9850     1.9850     100\n",
      "2023-09-25 10:07:00-04:00  1.9850  1.9850  1.9850  1.9850     1.9850     307\n",
      "2023-09-25 10:08:00-04:00  1.9850  1.9850  1.9850  1.9850     1.9850     200\n",
      "2023-09-25 10:09:00-04:00  1.9850  1.9850  1.9800  1.9800     1.9800     300\n",
      "2023-09-25 10:11:00-04:00  1.9850  1.9850  1.9850  1.9850     1.9850     200\n",
      "2023-09-25 10:12:00-04:00  1.9850  1.9850  1.9850  1.9850     1.9850     200\n",
      "2023-09-25 10:14:00-04:00  1.9850  1.9850  1.9850  1.9850     1.9850     312\n",
      "2023-09-25 10:15:00-04:00  1.9850  1.9850  1.9850  1.9850     1.9850     100\n",
      "2023-09-25 10:16:00-04:00  1.9850  1.9950  1.9850  1.9900     1.9900    3281\n",
      "2023-09-25 10:18:00-04:00  1.9900  1.9900  1.9850  1.9850     1.9850    1886\n",
      "2023-09-25 10:19:00-04:00  1.9810  1.9865  1.9810  1.9865     1.9865     969\n",
      "2023-09-25 10:20:00-04:00  1.9850  1.9850  1.9850  1.9850     1.9850     182\n",
      "2023-09-25 10:21:00-04:00  1.9800  1.9800  1.9800  1.9800     1.9800    1966\n",
      "2023-09-25 10:22:00-04:00  1.9800  1.9850  1.9800  1.9850     1.9850   12556\n",
      "2023-09-25 10:23:00-04:00  1.9850  1.9850  1.9800  1.9800     1.9800    1255\n",
      "2023-09-25 10:24:00-04:00  1.9750  1.9750  1.9750  1.9750     1.9750     100\n",
      "2023-09-25 10:26:00-04:00  1.9707  1.9750  1.9707  1.9750     1.9750    1110\n",
      "2023-09-25 10:27:00-04:00  1.9750  1.9750  1.9750  1.9750     1.9750       0\n",
      "2023-09-25 10:30:00-04:00  1.9750  1.9750  1.9741  1.9741     1.9741    2347\n",
      "2023-09-25 10:33:00-04:00  1.9769  1.9769  1.9769  1.9769     1.9769     601\n",
      "2023-09-25 10:34:00-04:00  1.9750  1.9750  1.9750  1.9750     1.9750     300\n",
      "2023-09-25 10:35:00-04:00  1.9750  1.9750  1.9700  1.9750     1.9750    3028\n",
      "2023-09-25 10:38:00-04:00  1.9750  1.9750  1.9750  1.9750     1.9750     700\n",
      "2023-09-25 10:39:00-04:00  1.9750  1.9750  1.9750  1.9750     1.9750     209\n",
      "2023-09-25 10:41:00-04:00  1.9750  1.9750  1.9700  1.9702     1.9702     500\n",
      "2023-09-25 10:42:00-04:00  1.9750  1.9750  1.9750  1.9750     1.9750     248\n",
      "2023-09-25 10:43:00-04:00  1.9700  1.9700  1.9700  1.9700     1.9700       0\n"
     ]
    },
    {
     "name": "stderr",
     "output_type": "stream",
     "text": [
      "/home/chris/.local/lib/python3.10/site-packages/yfinance/utils.py:631: FutureWarning: Series.__getitem__ treating keys as positions is deprecated. In a future version, integer keys will always be treated as labels (consistent with DataFrame behavior). To access a value by position, use `ser.iloc[pos]`\n",
      "  quotes.loc[idx2, \"Open\"] = quotes[\"Open\"][n - 1]\n",
      "/home/chris/.local/lib/python3.10/site-packages/yfinance/utils.py:633: FutureWarning: Series.__getitem__ treating keys as positions is deprecated. In a future version, integer keys will always be treated as labels (consistent with DataFrame behavior). To access a value by position, use `ser.iloc[pos]`\n",
      "  if not _np.isnan(quotes[\"High\"][n - 1]):\n",
      "/home/chris/.local/lib/python3.10/site-packages/yfinance/utils.py:634: FutureWarning: Series.__getitem__ treating keys as positions is deprecated. In a future version, integer keys will always be treated as labels (consistent with DataFrame behavior). To access a value by position, use `ser.iloc[pos]`\n",
      "  quotes.loc[idx2, \"High\"] = _np.nanmax([quotes[\"High\"][n - 1], quotes[\"High\"][n - 2]])\n",
      "/home/chris/.local/lib/python3.10/site-packages/yfinance/utils.py:638: FutureWarning: Series.__getitem__ treating keys as positions is deprecated. In a future version, integer keys will always be treated as labels (consistent with DataFrame behavior). To access a value by position, use `ser.iloc[pos]`\n",
      "  if not _np.isnan(quotes[\"Low\"][n - 1]):\n",
      "/home/chris/.local/lib/python3.10/site-packages/yfinance/utils.py:639: FutureWarning: Series.__getitem__ treating keys as positions is deprecated. In a future version, integer keys will always be treated as labels (consistent with DataFrame behavior). To access a value by position, use `ser.iloc[pos]`\n",
      "  quotes.loc[idx2, \"Low\"] = _np.nanmin([quotes[\"Low\"][n - 1], quotes[\"Low\"][n - 2]])\n",
      "/home/chris/.local/lib/python3.10/site-packages/yfinance/utils.py:643: FutureWarning: Series.__getitem__ treating keys as positions is deprecated. In a future version, integer keys will always be treated as labels (consistent with DataFrame behavior). To access a value by position, use `ser.iloc[pos]`\n",
      "  quotes.loc[idx2, \"Close\"] = quotes[\"Close\"][n - 1]\n",
      "/home/chris/.local/lib/python3.10/site-packages/yfinance/utils.py:645: FutureWarning: Series.__getitem__ treating keys as positions is deprecated. In a future version, integer keys will always be treated as labels (consistent with DataFrame behavior). To access a value by position, use `ser.iloc[pos]`\n",
      "  quotes.loc[idx2, \"Adj Close\"] = quotes[\"Adj Close\"][n - 1]\n",
      "/home/chris/.local/lib/python3.10/site-packages/yfinance/utils.py:646: FutureWarning: Series.__getitem__ treating keys as positions is deprecated. In a future version, integer keys will always be treated as labels (consistent with DataFrame behavior). To access a value by position, use `ser.iloc[pos]`\n",
      "  quotes.loc[idx2, \"Volume\"] += quotes[\"Volume\"][n - 1]\n"
     ]
    }
   ],
   "source": [
    "import yfinance as yf\n",
    "data = yf.download(\"TCS\", period=\"1d\" ,interval = \"1m\")\n",
    "print(data)\n"
   ]
  },
  {
   "cell_type": "code",
   "execution_count": null,
   "metadata": {},
   "outputs": [],
   "source": []
  }
 ],
 "metadata": {
  "kernelspec": {
   "display_name": "Python 3",
   "language": "python",
   "name": "python3"
  },
  "language_info": {
   "codemirror_mode": {
    "name": "ipython",
    "version": 3
   },
   "file_extension": ".py",
   "mimetype": "text/x-python",
   "name": "python",
   "nbconvert_exporter": "python",
   "pygments_lexer": "ipython3",
   "version": "3.10.12"
  },
  "orig_nbformat": 4
 },
 "nbformat": 4,
 "nbformat_minor": 2
}
